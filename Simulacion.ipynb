{
  "nbformat": 4,
  "nbformat_minor": 0,
  "metadata": {
    "colab": {
      "provenance": [],
      "authorship_tag": "ABX9TyNcIDR1XckltHL9SCUhZNsR",
      "include_colab_link": true
    },
    "kernelspec": {
      "name": "python3",
      "display_name": "Python 3"
    },
    "language_info": {
      "name": "python"
    }
  },
  "cells": [
    {
      "cell_type": "markdown",
      "metadata": {
        "id": "view-in-github",
        "colab_type": "text"
      },
      "source": [
        "<a href=\"https://colab.research.google.com/github/Oscaritd/Simulacion/blob/main/Simulacion.ipynb\" target=\"_parent\"><img src=\"https://colab.research.google.com/assets/colab-badge.svg\" alt=\"Open In Colab\"/></a>"
      ]
    },
    {
      "cell_type": "code",
      "execution_count": null,
      "metadata": {
        "colab": {
          "base_uri": "https://localhost:8080/"
        },
        "id": "Xa8M9eI2f1fI",
        "outputId": "13780328-ab72-4d4a-a03f-de857b4072d0"
      },
      "outputs": [
        {
          "output_type": "stream",
          "name": "stdout",
          "text": [
            "Interación (i):(numero)\n",
            "Interación (i):(numero)\n"
          ]
        }
      ],
      "source": [
        "#semilla\n",
        "semilla = 5738\n",
        "n = 4\n",
        "interaciones = 100\n",
        "resultados = []\n",
        "\n",
        "for _ in range (interaciones):\n",
        "  #Elevar la semilla al cuadrado\n",
        "  cuadrado = str(semilla ** 2).zfill(2 * n) #Agregar los espacios necesarios\n",
        "  #Extraer los digitos centrales\n",
        "  inicio = (len(cuadrado) - n) // 2\n",
        "  semilla = int(cuadrado[inicio: inicio + n])\n",
        "  resultados.append(semilla)\n",
        "\n",
        "#Imprimir los resultados\n",
        "for resultado in (resultados, 1):\n",
        "  print(f\"Interación (i):(numero)\")"
      ]
    },
    {
      "cell_type": "code",
      "source": [],
      "metadata": {
        "id": "EGm7rTVeivBP"
      },
      "execution_count": null,
      "outputs": []
    }
  ]
}